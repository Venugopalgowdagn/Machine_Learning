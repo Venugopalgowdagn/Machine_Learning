{
 "cells": [
  {
   "cell_type": "code",
   "execution_count": 1,
   "metadata": {},
   "outputs": [],
   "source": [
    "import pandas as pd\n",
    "import numpy as np\n"
   ]
  },
  {
   "cell_type": "code",
   "execution_count": 2,
   "metadata": {},
   "outputs": [],
   "source": [
    "data= pd.read_csv(\"https://raw.githubusercontent.com/uiuc-cse/data-fa14/gh-pages/data/iris.csv\")"
   ]
  },
  {
   "cell_type": "code",
   "execution_count": 3,
   "metadata": {},
   "outputs": [
    {
     "data": {
      "text/html": [
       "<div>\n",
       "<style scoped>\n",
       "    .dataframe tbody tr th:only-of-type {\n",
       "        vertical-align: middle;\n",
       "    }\n",
       "\n",
       "    .dataframe tbody tr th {\n",
       "        vertical-align: top;\n",
       "    }\n",
       "\n",
       "    .dataframe thead th {\n",
       "        text-align: right;\n",
       "    }\n",
       "</style>\n",
       "<table border=\"1\" class=\"dataframe\">\n",
       "  <thead>\n",
       "    <tr style=\"text-align: right;\">\n",
       "      <th></th>\n",
       "      <th>sepal_length</th>\n",
       "      <th>sepal_width</th>\n",
       "      <th>petal_length</th>\n",
       "      <th>petal_width</th>\n",
       "      <th>species</th>\n",
       "    </tr>\n",
       "  </thead>\n",
       "  <tbody>\n",
       "    <tr>\n",
       "      <th>0</th>\n",
       "      <td>5.1</td>\n",
       "      <td>3.5</td>\n",
       "      <td>1.4</td>\n",
       "      <td>0.2</td>\n",
       "      <td>setosa</td>\n",
       "    </tr>\n",
       "    <tr>\n",
       "      <th>1</th>\n",
       "      <td>4.9</td>\n",
       "      <td>3.0</td>\n",
       "      <td>1.4</td>\n",
       "      <td>0.2</td>\n",
       "      <td>setosa</td>\n",
       "    </tr>\n",
       "    <tr>\n",
       "      <th>2</th>\n",
       "      <td>4.7</td>\n",
       "      <td>3.2</td>\n",
       "      <td>1.3</td>\n",
       "      <td>0.2</td>\n",
       "      <td>setosa</td>\n",
       "    </tr>\n",
       "    <tr>\n",
       "      <th>3</th>\n",
       "      <td>4.6</td>\n",
       "      <td>3.1</td>\n",
       "      <td>1.5</td>\n",
       "      <td>0.2</td>\n",
       "      <td>setosa</td>\n",
       "    </tr>\n",
       "    <tr>\n",
       "      <th>4</th>\n",
       "      <td>5.0</td>\n",
       "      <td>3.6</td>\n",
       "      <td>1.4</td>\n",
       "      <td>0.2</td>\n",
       "      <td>setosa</td>\n",
       "    </tr>\n",
       "  </tbody>\n",
       "</table>\n",
       "</div>"
      ],
      "text/plain": [
       "   sepal_length  sepal_width  petal_length  petal_width species\n",
       "0           5.1          3.5           1.4          0.2  setosa\n",
       "1           4.9          3.0           1.4          0.2  setosa\n",
       "2           4.7          3.2           1.3          0.2  setosa\n",
       "3           4.6          3.1           1.5          0.2  setosa\n",
       "4           5.0          3.6           1.4          0.2  setosa"
      ]
     },
     "execution_count": 3,
     "metadata": {},
     "output_type": "execute_result"
    }
   ],
   "source": [
    "data.head()"
   ]
  },
  {
   "cell_type": "code",
   "execution_count": 4,
   "metadata": {},
   "outputs": [
    {
     "name": "stdout",
     "output_type": "stream",
     "text": [
      "<class 'pandas.core.frame.DataFrame'>\n",
      "RangeIndex: 150 entries, 0 to 149\n",
      "Data columns (total 5 columns):\n",
      " #   Column        Non-Null Count  Dtype  \n",
      "---  ------        --------------  -----  \n",
      " 0   sepal_length  150 non-null    float64\n",
      " 1   sepal_width   150 non-null    float64\n",
      " 2   petal_length  150 non-null    float64\n",
      " 3   petal_width   150 non-null    float64\n",
      " 4   species       150 non-null    object \n",
      "dtypes: float64(4), object(1)\n",
      "memory usage: 6.0+ KB\n"
     ]
    }
   ],
   "source": [
    "data.info()"
   ]
  },
  {
   "cell_type": "code",
   "execution_count": 9,
   "metadata": {},
   "outputs": [
    {
     "data": {
      "text/plain": [
       "setosa        50\n",
       "versicolor    50\n",
       "virginica     50\n",
       "Name: species, dtype: int64"
      ]
     },
     "execution_count": 9,
     "metadata": {},
     "output_type": "execute_result"
    }
   ],
   "source": [
    "data.species.value_counts()\n",
    "#data set is complete\n",
    "#data set is numeric\n",
    "#data set is balanced hence only accuracy is required"
   ]
  },
  {
   "cell_type": "code",
   "execution_count": 11,
   "metadata": {},
   "outputs": [],
   "source": [
    "features=data.iloc[:,0:4].values"
   ]
  },
  {
   "cell_type": "code",
   "execution_count": 16,
   "metadata": {},
   "outputs": [
    {
     "data": {
      "text/plain": [
       "2"
      ]
     },
     "execution_count": 16,
     "metadata": {},
     "output_type": "execute_result"
    }
   ],
   "source": [
    "features.ndim"
   ]
  },
  {
   "cell_type": "code",
   "execution_count": 17,
   "metadata": {},
   "outputs": [],
   "source": [
    "label=data.iloc[:,-1].values"
   ]
  },
  {
   "cell_type": "code",
   "execution_count": 19,
   "metadata": {},
   "outputs": [
    {
     "data": {
      "text/plain": [
       "1"
      ]
     },
     "execution_count": 19,
     "metadata": {},
     "output_type": "execute_result"
    }
   ],
   "source": [
    "label.ndim"
   ]
  },
  {
   "cell_type": "code",
   "execution_count": 34,
   "metadata": {},
   "outputs": [
    {
     "name": "stdout",
     "output_type": "stream",
     "text": [
      "Test Score:1.0 Train Score 0.9666666666666667  Random State 3\n",
      "Test Score:1.0 Train Score 0.9833333333333333  Random State 9\n",
      "Test Score:1.0 Train Score 0.975  Random State 10\n",
      "Test Score:1.0 Train Score 0.975  Random State 15\n",
      "Test Score:1.0 Train Score 0.9666666666666667  Random State 18\n",
      "Test Score:1.0 Train Score 0.9666666666666667  Random State 19\n",
      "Test Score:1.0 Train Score 0.9666666666666667  Random State 23\n",
      "Test Score:1.0 Train Score 0.9666666666666667  Random State 24\n",
      "Test Score:0.9666666666666667 Train Score 0.9583333333333334  Random State 26\n",
      "Test Score:1.0 Train Score 0.9583333333333334  Random State 32\n",
      "Test Score:1.0 Train Score 0.9666666666666667  Random State 34\n",
      "Test Score:1.0 Train Score 0.9666666666666667  Random State 35\n",
      "Test Score:1.0 Train Score 0.975  Random State 37\n",
      "Test Score:1.0 Train Score 0.9666666666666667  Random State 38\n",
      "Test Score:1.0 Train Score 0.9833333333333333  Random State 40\n",
      "Test Score:1.0 Train Score 0.975  Random State 42\n",
      "Test Score:1.0 Train Score 0.9666666666666667  Random State 43\n",
      "Test Score:0.9666666666666667 Train Score 0.9583333333333334  Random State 47\n",
      "Test Score:1.0 Train Score 0.95  Random State 57\n",
      "Test Score:1.0 Train Score 0.9666666666666667  Random State 59\n",
      "Test Score:1.0 Train Score 0.975  Random State 63\n",
      "Test Score:1.0 Train Score 0.9666666666666667  Random State 66\n",
      "Test Score:0.9666666666666667 Train Score 0.9583333333333334  Random State 69\n",
      "Test Score:1.0 Train Score 0.9666666666666667  Random State 70\n",
      "Test Score:1.0 Train Score 0.9833333333333333  Random State 72\n",
      "Test Score:1.0 Train Score 0.9666666666666667  Random State 74\n",
      "Test Score:1.0 Train Score 0.9583333333333334  Random State 75\n",
      "Test Score:1.0 Train Score 0.9666666666666667  Random State 81\n",
      "Test Score:1.0 Train Score 0.975  Random State 84\n",
      "Test Score:1.0 Train Score 0.975  Random State 86\n",
      "Test Score:1.0 Train Score 0.9833333333333333  Random State 88\n",
      "Test Score:1.0 Train Score 0.975  Random State 91\n",
      "Test Score:1.0 Train Score 0.9833333333333333  Random State 93\n",
      "Test Score:1.0 Train Score 0.9666666666666667  Random State 101\n",
      "Test Score:1.0 Train Score 0.975  Random State 103\n",
      "Test Score:1.0 Train Score 0.9666666666666667  Random State 104\n",
      "Test Score:1.0 Train Score 0.975  Random State 106\n",
      "Test Score:1.0 Train Score 0.975  Random State 107\n",
      "Test Score:1.0 Train Score 0.975  Random State 112\n",
      "Test Score:0.9666666666666667 Train Score 0.9583333333333334  Random State 113\n",
      "Test Score:1.0 Train Score 0.9666666666666667  Random State 120\n",
      "Test Score:1.0 Train Score 0.9833333333333333  Random State 123\n",
      "Test Score:1.0 Train Score 0.9666666666666667  Random State 125\n",
      "Test Score:1.0 Train Score 0.975  Random State 126\n",
      "Test Score:1.0 Train Score 0.975  Random State 128\n",
      "Test Score:0.9666666666666667 Train Score 0.9583333333333334  Random State 131\n",
      "Test Score:0.9666666666666667 Train Score 0.9583333333333334  Random State 133\n",
      "Test Score:1.0 Train Score 0.9666666666666667  Random State 135\n",
      "Test Score:1.0 Train Score 0.975  Random State 137\n",
      "Test Score:1.0 Train Score 0.975  Random State 140\n",
      "Test Score:0.9666666666666667 Train Score 0.95  Random State 148\n",
      "Test Score:1.0 Train Score 0.9666666666666667  Random State 149\n",
      "Test Score:1.0 Train Score 0.9666666666666667  Random State 152\n",
      "Test Score:0.9666666666666667 Train Score 0.9583333333333334  Random State 153\n",
      "Test Score:1.0 Train Score 0.9666666666666667  Random State 155\n",
      "Test Score:1.0 Train Score 0.9666666666666667  Random State 156\n",
      "Test Score:0.9666666666666667 Train Score 0.9583333333333334  Random State 164\n",
      "Test Score:1.0 Train Score 0.9583333333333334  Random State 165\n",
      "Test Score:1.0 Train Score 0.9666666666666667  Random State 168\n",
      "Test Score:1.0 Train Score 0.975  Random State 169\n",
      "Test Score:1.0 Train Score 0.975  Random State 170\n",
      "Test Score:1.0 Train Score 0.9666666666666667  Random State 187\n",
      "Test Score:0.9666666666666667 Train Score 0.95  Random State 188\n",
      "Test Score:1.0 Train Score 0.975  Random State 189\n",
      "Test Score:1.0 Train Score 0.975  Random State 192\n",
      "Test Score:1.0 Train Score 0.9666666666666667  Random State 195\n",
      "Test Score:1.0 Train Score 0.9666666666666667  Random State 197\n",
      "Test Score:1.0 Train Score 0.9833333333333333  Random State 200\n"
     ]
    }
   ],
   "source": [
    "#train test split\n",
    "\n",
    "from sklearn.model_selection import train_test_split\n",
    "from sklearn.linear_model import LogisticRegression\n",
    "import warnings\n",
    "warnings.filterwarnings('ignore')\n",
    "\n",
    "for randomstate in range(1,201):\n",
    "    x_train,x_test,y_train,y_test= train_test_split(features,label,test_size=0.2,random_state=randomstate)\n",
    "    model= LogisticRegression()\n",
    "    model.fit(x_train,y_train)\n",
    "    train_score= model.score(x_train,y_train)\n",
    "    test_score = model.score(x_test,y_test)\n",
    "    if test_score> train_score:\n",
    "                            print(\"Test Score:{} Train Score {}  Random State {}\".format(test_score,train_score,randomstate))"
   ]
  },
  {
   "cell_type": "code",
   "execution_count": 35,
   "metadata": {},
   "outputs": [
    {
     "data": {
      "text/plain": [
       "LogisticRegression(C=1.0, class_weight=None, dual=False, fit_intercept=True,\n",
       "                   intercept_scaling=1, l1_ratio=None, max_iter=100,\n",
       "                   multi_class='auto', n_jobs=None, penalty='l2',\n",
       "                   random_state=None, solver='lbfgs', tol=0.0001, verbose=0,\n",
       "                   warm_start=False)"
      ]
     },
     "execution_count": 35,
     "metadata": {},
     "output_type": "execute_result"
    }
   ],
   "source": [
    "#fiting the model\n",
    "from sklearn.linear_model import LogisticRegression\n",
    "from sklearn.model_selection import train_test_split\n",
    "\n",
    "x_train,x_test,y_train,y_test= train_test_split(features,label,test_size=0.2,random_state=3)\n",
    "\n",
    "model= LogisticRegression()\n",
    "model.fit(x_train,y_train)\n"
   ]
  },
  {
   "cell_type": "code",
   "execution_count": 36,
   "metadata": {},
   "outputs": [
    {
     "name": "stdout",
     "output_type": "stream",
     "text": [
      "0.9666666666666667\n",
      "1.0\n"
     ]
    }
   ],
   "source": [
    "#checking for genwrlization\n",
    "print(model.score(x_train,y_train))\n",
    "print(model.score(x_test,y_test))"
   ]
  },
  {
   "cell_type": "code",
   "execution_count": 39,
   "metadata": {},
   "outputs": [
    {
     "data": {
      "text/plain": [
       "array([[50,  0,  0],\n",
       "       [ 0, 47,  3],\n",
       "       [ 0,  1, 49]], dtype=int64)"
      ]
     },
     "execution_count": 39,
     "metadata": {},
     "output_type": "execute_result"
    }
   ],
   "source": [
    "from sklearn.metrics import confusion_matrix\n",
    "cm= confusion_matrix(label,model.predict(features))\n",
    "cm"
   ]
  },
  {
   "cell_type": "code",
   "execution_count": 43,
   "metadata": {},
   "outputs": [
    {
     "name": "stdout",
     "output_type": "stream",
     "text": [
      "Test Score:1.0 Train Score 0.9666666666666667  Random State 3\n",
      "Test Score:1.0 Train Score 0.9666666666666667  Random State 6\n",
      "Test Score:1.0 Train Score 0.9666666666666667  Random State 9\n",
      "Test Score:1.0 Train Score 0.9666666666666667  Random State 10\n",
      "Test Score:1.0 Train Score 0.9666666666666667  Random State 11\n",
      "Test Score:1.0 Train Score 0.9666666666666667  Random State 13\n",
      "Test Score:1.0 Train Score 0.9666666666666667  Random State 15\n",
      "Test Score:1.0 Train Score 0.9666666666666667  Random State 17\n",
      "Test Score:1.0 Train Score 0.9666666666666667  Random State 18\n",
      "Test Score:1.0 Train Score 0.9666666666666667  Random State 19\n",
      "Test Score:1.0 Train Score 0.9666666666666667  Random State 20\n",
      "Test Score:1.0 Train Score 0.9666666666666667  Random State 22\n",
      "Test Score:1.0 Train Score 0.9666666666666667  Random State 23\n",
      "Test Score:1.0 Train Score 0.9666666666666667  Random State 24\n",
      "Test Score:1.0 Train Score 0.9666666666666667  Random State 32\n",
      "Test Score:1.0 Train Score 0.9666666666666667  Random State 33\n",
      "Test Score:1.0 Train Score 0.9666666666666667  Random State 34\n",
      "Test Score:1.0 Train Score 0.9666666666666667  Random State 35\n",
      "Test Score:1.0 Train Score 0.9666666666666667  Random State 37\n",
      "Test Score:1.0 Train Score 0.9666666666666667  Random State 38\n",
      "Test Score:1.0 Train Score 0.9666666666666667  Random State 40\n",
      "Test Score:1.0 Train Score 0.9666666666666667  Random State 42\n",
      "Test Score:1.0 Train Score 0.9666666666666667  Random State 43\n",
      "Test Score:1.0 Train Score 0.9666666666666667  Random State 45\n",
      "Test Score:1.0 Train Score 0.9666666666666667  Random State 47\n",
      "Test Score:1.0 Train Score 0.9666666666666667  Random State 54\n",
      "Test Score:1.0 Train Score 0.9666666666666667  Random State 57\n",
      "Test Score:1.0 Train Score 0.9666666666666667  Random State 59\n",
      "Test Score:1.0 Train Score 0.9666666666666667  Random State 63\n",
      "Test Score:1.0 Train Score 0.9666666666666667  Random State 66\n",
      "Test Score:1.0 Train Score 0.9666666666666667  Random State 68\n",
      "Test Score:1.0 Train Score 0.9666666666666667  Random State 69\n",
      "Test Score:1.0 Train Score 0.9666666666666667  Random State 70\n",
      "Test Score:1.0 Train Score 0.9666666666666667  Random State 72\n",
      "Test Score:1.0 Train Score 0.9666666666666667  Random State 74\n",
      "Test Score:1.0 Train Score 0.9666666666666667  Random State 75\n",
      "Test Score:1.0 Train Score 0.9666666666666667  Random State 81\n",
      "Test Score:1.0 Train Score 0.9666666666666667  Random State 84\n",
      "Test Score:1.0 Train Score 0.9666666666666667  Random State 86\n",
      "Test Score:1.0 Train Score 0.9666666666666667  Random State 88\n",
      "Test Score:1.0 Train Score 0.9666666666666667  Random State 89\n",
      "Test Score:1.0 Train Score 0.9666666666666667  Random State 90\n",
      "Test Score:1.0 Train Score 0.9666666666666667  Random State 91\n",
      "Test Score:1.0 Train Score 0.9666666666666667  Random State 93\n",
      "Test Score:1.0 Train Score 0.9666666666666667  Random State 101\n",
      "Test Score:1.0 Train Score 0.9666666666666667  Random State 103\n",
      "Test Score:1.0 Train Score 0.9666666666666667  Random State 104\n",
      "Test Score:1.0 Train Score 0.9666666666666667  Random State 106\n",
      "Test Score:1.0 Train Score 0.9666666666666667  Random State 107\n",
      "Test Score:1.0 Train Score 0.9666666666666667  Random State 112\n",
      "Test Score:1.0 Train Score 0.9666666666666667  Random State 115\n",
      "Test Score:1.0 Train Score 0.9666666666666667  Random State 117\n",
      "Test Score:1.0 Train Score 0.9666666666666667  Random State 120\n",
      "Test Score:1.0 Train Score 0.9666666666666667  Random State 123\n",
      "Test Score:1.0 Train Score 0.9666666666666667  Random State 125\n",
      "Test Score:1.0 Train Score 0.9666666666666667  Random State 126\n",
      "Test Score:1.0 Train Score 0.9666666666666667  Random State 128\n",
      "Test Score:1.0 Train Score 0.9666666666666667  Random State 131\n",
      "Test Score:1.0 Train Score 0.9666666666666667  Random State 133\n",
      "Test Score:1.0 Train Score 0.9666666666666667  Random State 135\n",
      "Test Score:1.0 Train Score 0.9666666666666667  Random State 137\n",
      "Test Score:1.0 Train Score 0.9666666666666667  Random State 140\n",
      "Test Score:1.0 Train Score 0.9666666666666667  Random State 149\n",
      "Test Score:1.0 Train Score 0.9666666666666667  Random State 151\n",
      "Test Score:1.0 Train Score 0.9666666666666667  Random State 152\n",
      "Test Score:1.0 Train Score 0.9666666666666667  Random State 153\n",
      "Test Score:1.0 Train Score 0.9666666666666667  Random State 155\n",
      "Test Score:1.0 Train Score 0.9666666666666667  Random State 156\n",
      "Test Score:1.0 Train Score 0.9666666666666667  Random State 160\n",
      "Test Score:1.0 Train Score 0.9666666666666667  Random State 164\n",
      "Test Score:1.0 Train Score 0.9666666666666667  Random State 165\n",
      "Test Score:1.0 Train Score 0.9666666666666667  Random State 168\n",
      "Test Score:1.0 Train Score 0.9666666666666667  Random State 169\n",
      "Test Score:1.0 Train Score 0.9666666666666667  Random State 170\n",
      "Test Score:1.0 Train Score 0.9666666666666667  Random State 178\n",
      "Test Score:1.0 Train Score 0.9666666666666667  Random State 180\n",
      "Test Score:1.0 Train Score 0.9666666666666667  Random State 183\n",
      "Test Score:1.0 Train Score 0.9666666666666667  Random State 185\n",
      "Test Score:1.0 Train Score 0.9666666666666667  Random State 187\n",
      "Test Score:1.0 Train Score 0.9666666666666667  Random State 189\n",
      "Test Score:1.0 Train Score 0.9666666666666667  Random State 192\n",
      "Test Score:1.0 Train Score 0.9666666666666667  Random State 194\n",
      "Test Score:1.0 Train Score 0.9666666666666667  Random State 195\n",
      "Test Score:1.0 Train Score 0.9666666666666667  Random State 197\n",
      "Test Score:1.0 Train Score 0.9666666666666667  Random State 200\n"
     ]
    }
   ],
   "source": [
    "\n",
    "from sklearn.model_selection import train_test_split\n",
    "from sklearn.neighbors import KNeighborsClassifier\n",
    "import warnings\n",
    "warnings.filterwarnings('ignore')\n",
    "\n",
    "for randomstate in range(1,201):\n",
    "    x_train,x_test,y_train,y_test= train_test_split(features,label,test_size=0.2,random_state=randomstate)\n",
    "    model1= KNeighborsClassifier()\n",
    "    model1.fit(x_train,y_train)\n",
    "    train_score= model.score(x_train,y_train)\n",
    "    test_score = model.score(x_test,y_test)\n",
    "    if test_score> train_score:\n",
    "                            print(\"Test Score:{} Train Score {}  Random State {}\".format(test_score,train_score,randomstate))"
   ]
  },
  {
   "cell_type": "code",
   "execution_count": 44,
   "metadata": {},
   "outputs": [
    {
     "data": {
      "text/plain": [
       "array([[50,  0,  0],\n",
       "       [ 0, 47,  3],\n",
       "       [ 0,  2, 48]], dtype=int64)"
      ]
     },
     "execution_count": 44,
     "metadata": {},
     "output_type": "execute_result"
    }
   ],
   "source": [
    "from sklearn.metrics import confusion_matrix\n",
    "cm1= confusion_matrix(label,model1.predict(features))\n",
    "cm1"
   ]
  },
  {
   "cell_type": "code",
   "execution_count": 45,
   "metadata": {},
   "outputs": [
    {
     "name": "stdout",
     "output_type": "stream",
     "text": [
      "0.9583333333333334\n",
      "1.0\n"
     ]
    }
   ],
   "source": [
    "print(model1.score(x_train,y_train))\n",
    "print(model1.score(x_test,y_test))"
   ]
  },
  {
   "cell_type": "code",
   "execution_count": 46,
   "metadata": {},
   "outputs": [
    {
     "data": {
      "text/plain": [
       "Index(['sepal_length', 'sepal_width', 'petal_length', 'petal_width',\n",
       "       'species'],\n",
       "      dtype='object')"
      ]
     },
     "execution_count": 46,
     "metadata": {},
     "output_type": "execute_result"
    }
   ],
   "source": [
    "#Deployment\n",
    "data.columns"
   ]
  },
  {
   "cell_type": "code",
   "execution_count": 56,
   "metadata": {},
   "outputs": [
    {
     "name": "stdout",
     "output_type": "stream",
     "text": [
      " Enter the sepal_length:  5.1\n",
      " Enter the sepal_width:  3.8\n",
      " Enter the petal_length:  1.9\n",
      " Enter the petal_width:  0.4\n",
      " The predicted specied from the model is ['setosa']\n"
     ]
    }
   ],
   "source": [
    "sepal_length=float(input(\" Enter the sepal_length:  \"))\n",
    "sepal_width=float(input(\" Enter the sepal_width:  \"))\n",
    "petal_length=float(input(\" Enter the petal_length:  \"))\n",
    "petal_width=float(input(\" Enter the petal_width:  \"))\n",
    "featurees= np.array([[sepal_length,sepal_width,petal_length,petal_width]])\n",
    "#predict\n",
    "species= model.predict(featurees)\n",
    "print(\" The predicted specied from the model is {}\".format(species))\n"
   ]
  },
  {
   "cell_type": "code",
   "execution_count": 58,
   "metadata": {},
   "outputs": [
    {
     "data": {
      "text/plain": [
       "0.9666666666666667"
      ]
     },
     "execution_count": 58,
     "metadata": {},
     "output_type": "execute_result"
    }
   ],
   "source": [
    "model1.score(features,label)"
   ]
  },
  {
   "cell_type": "code",
   "execution_count": null,
   "metadata": {},
   "outputs": [],
   "source": []
  },
  {
   "cell_type": "code",
   "execution_count": 57,
   "metadata": {},
   "outputs": [],
   "source": [
    "#Pickel object\n",
    "import pickle\n",
    "pickle.dump(model,open(\"speciespredictor.model\",\"wb\"))"
   ]
  },
  {
   "cell_type": "code",
   "execution_count": null,
   "metadata": {},
   "outputs": [],
   "source": []
  }
 ],
 "metadata": {
  "kernelspec": {
   "display_name": "Python 3",
   "language": "python",
   "name": "python3"
  },
  "language_info": {
   "codemirror_mode": {
    "name": "ipython",
    "version": 3
   },
   "file_extension": ".py",
   "mimetype": "text/x-python",
   "name": "python",
   "nbconvert_exporter": "python",
   "pygments_lexer": "ipython3",
   "version": "3.7.6"
  }
 },
 "nbformat": 4,
 "nbformat_minor": 4
}
